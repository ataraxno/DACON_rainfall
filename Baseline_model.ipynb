{
 "cells": [
  {
   "cell_type": "code",
   "execution_count": 1,
   "metadata": {},
   "outputs": [],
   "source": [
    "import glob\n",
    "import pandas as pd\n",
    "import numpy as np\n",
    "from sklearn.utils import shuffle\n",
    "\n",
    "import matplotlib.pylab as plt\n",
    "from tqdm import tqdm\n",
    "import tensorflow as tf\n",
    "from tensorflow.keras import *"
   ]
  },
  {
   "cell_type": "code",
   "execution_count": 2,
   "metadata": {},
   "outputs": [
    {
     "name": "stdout",
     "output_type": "stream",
     "text": [
      "2 Physical GPUs, 2 Logical GPUs\n"
     ]
    }
   ],
   "source": [
    "gpus = tf.config.experimental.list_physical_devices('GPU')\n",
    "if gpus:\n",
    "    try:\n",
    "        # Currently, memory growth needs to be the same across GPUs\n",
    "        for gpu in gpus:\n",
    "            tf.config.experimental.set_memory_growth(gpu, True)\n",
    "        logical_gpus = tf.config.experimental.list_logical_devices('GPU')\n",
    "        print(len(gpus), \"Physical GPUs,\", len(logical_gpus), \"Logical GPUs\")\n",
    "    except RuntimeError as e:\n",
    "        # Memory growth must be set before GPUs have been initialized\n",
    "        print(e)"
   ]
  },
  {
   "cell_type": "code",
   "execution_count": 3,
   "metadata": {},
   "outputs": [],
   "source": [
    "LEARNING_RATE = 0.003\n",
    "DECAY_STEPS = 1000\n",
    "DECAY_RATE = 2\n",
    "EPSILON = 1e-06\n",
    "BEST_PATH = './models/Baseline_conv.h5'"
   ]
  },
  {
   "cell_type": "code",
   "execution_count": 4,
   "metadata": {},
   "outputs": [
    {
     "data": {
      "text/plain": [
       "62735"
      ]
     },
     "execution_count": 4,
     "metadata": {},
     "output_type": "execute_result"
    }
   ],
   "source": [
    "train_files = glob.glob('./data/train/*.npy')\n",
    "train_files = shuffle(train_files, random_state=3101)\n",
    "len(train_files)"
   ]
  },
  {
   "cell_type": "code",
   "execution_count": 5,
   "metadata": {},
   "outputs": [],
   "source": [
    "def trainGenerator():\n",
    "    for file in train_files:\n",
    "        dataset = np.load(file)\n",
    "        target= dataset[:,:,-1].reshape(120,120,1)\n",
    "        remove_minus = np.where(target < 0, 0, target)\n",
    "        feature = dataset[:,:,:4]\n",
    "\n",
    "        yield (feature, remove_minus)"
   ]
  },
  {
   "cell_type": "code",
   "execution_count": 6,
   "metadata": {},
   "outputs": [],
   "source": [
    "NUM_TRAIN = int(len(train_files)*.7)\n",
    "\n",
    "full_dataset = tf.data.Dataset.from_generator(trainGenerator, (tf.float32, tf.float32), (tf.TensorShape([120,120,4]),tf.TensorShape([120,120,1])))\n",
    "\n",
    "train_dataset = full_dataset.take(NUM_TRAIN)\n",
    "train_dataset = train_dataset.batch(64).prefetch(1)\n",
    "val_dataset = full_dataset.skip(NUM_TRAIN)\n",
    "val_dataset = val_dataset.batch(64).prefetch(1)"
   ]
  },
  {
   "cell_type": "code",
   "execution_count": 7,
   "metadata": {},
   "outputs": [],
   "source": [
    "def base_model(input_layer, start_neurons):\n",
    "    \n",
    "    conv1 = layers.Conv2D(start_neurons * 1, (3, 3), activation=tf.nn.leaky_relu, padding=\"same\")(input_layer)\n",
    "    pool1 = layers.BatchNormalization()(conv1)\n",
    "    pool1 = layers.MaxPooling2D((2, 2))(pool1)\n",
    "\n",
    "    conv2 = layers.Conv2D(start_neurons * 2, (3, 3), activation=tf.nn.leaky_relu, padding=\"same\")(pool1)\n",
    "    pool2 = layers.BatchNormalization()(conv2)\n",
    "    pool2 = layers.MaxPooling2D((2, 2))(pool2)\n",
    "\n",
    "    convm = layers.Conv2D(start_neurons * 4, (3, 3), activation=tf.nn.leaky_relu, padding=\"same\")(pool2)\n",
    "\n",
    "    deconv2 = layers.Conv2DTranspose(start_neurons * 2, (3, 3), strides=(2, 2), padding=\"same\")(convm)\n",
    "    uconv2 = layers.concatenate([deconv2, conv2])\n",
    "    uconv2 = layers.Conv2D(start_neurons * 2, (3, 3), activation=tf.nn.leaky_relu, padding=\"same\")(uconv2)\n",
    "    uconv2 = layers.BatchNormalization()(uconv2)\n",
    "\n",
    "    deconv1 = layers.Conv2DTranspose(start_neurons * 1, (3, 3), strides=(2, 2), padding=\"same\")(uconv2)\n",
    "    uconv1 = layers.concatenate([deconv1, conv1])\n",
    "    uconv1 = layers.Conv2D(start_neurons * 1, (3, 3), activation=tf.nn.leaky_relu, padding=\"same\")(uconv1)\n",
    "    uconv1 = layers.BatchNormalization()(uconv1)\n",
    "    output_layer = layers.Conv2D(1, (1,1), padding=\"same\", activation=tf.nn.leaky_relu)(uconv1)\n",
    "    \n",
    "    return output_layer\n",
    "\n",
    "input_layer = Input((120, 120, 4))\n",
    "output_layer = base_model(input_layer,64)"
   ]
  },
  {
   "cell_type": "code",
   "execution_count": 8,
   "metadata": {},
   "outputs": [],
   "source": [
    "callbacks = [\n",
    "    tf.keras.callbacks.ModelCheckpoint(\n",
    "        filepath=BEST_PATH,\n",
    "        # Path where to save the model\n",
    "        # The two parameters below mean that we will overwrite\n",
    "        # the current checkpoint if and only if\n",
    "        # the `val_loss` score has improved.\n",
    "        save_best_only=True,\n",
    "        monitor='val_loss',\n",
    "        verbose=1),\n",
    "    tf.keras.callbacks.EarlyStopping(monitor='val_loss', min_delta=0.0001,  patience=20)\n",
    "]"
   ]
  },
  {
   "cell_type": "code",
   "execution_count": 9,
   "metadata": {},
   "outputs": [
    {
     "name": "stdout",
     "output_type": "stream",
     "text": [
      "INFO:tensorflow:Using MirroredStrategy with devices ('/job:localhost/replica:0/task:0/device:GPU:0', '/job:localhost/replica:0/task:0/device:GPU:1')\n"
     ]
    }
   ],
   "source": [
    "strategy = tf.distribute.MirroredStrategy()"
   ]
  },
  {
   "cell_type": "code",
   "execution_count": 10,
   "metadata": {},
   "outputs": [],
   "source": [
    "lr_schedule = optimizers.schedules.InverseTimeDecay(LEARNING_RATE, DECAY_STEPS, DECAY_RATE, staircase=True)"
   ]
  },
  {
   "cell_type": "code",
   "execution_count": 11,
   "metadata": {},
   "outputs": [
    {
     "name": "stdout",
     "output_type": "stream",
     "text": [
      "Epoch 1/200\n",
      "    687/Unknown - 78s 113ms/step - loss: 4.6160\n",
      "Epoch 00001: val_loss improved from inf to 3.63566, saving model to ./models/Baseline_conv.h5\n",
      "687/687 [==============================] - 127s 185ms/step - loss: 4.6160 - val_loss: 3.6357\n",
      "Epoch 2/200\n",
      "686/687 [============================>.] - ETA: 0s - loss: 3.6869\n",
      "Epoch 00002: val_loss improved from 3.63566 to 3.26491, saving model to ./models/Baseline_conv.h5\n",
      "687/687 [==============================] - 127s 185ms/step - loss: 3.6875 - val_loss: 3.2649\n",
      "Epoch 3/200\n",
      "686/687 [============================>.] - ETA: 0s - loss: 3.5659\n",
      "Epoch 00003: val_loss improved from 3.26491 to 3.25149, saving model to ./models/Baseline_conv.h5\n",
      "687/687 [==============================] - 127s 185ms/step - loss: 3.5665 - val_loss: 3.2515\n",
      "Epoch 4/200\n",
      "686/687 [============================>.] - ETA: 0s - loss: 3.4970\n",
      "Epoch 00004: val_loss improved from 3.25149 to 3.19515, saving model to ./models/Baseline_conv.h5\n",
      "687/687 [==============================] - 128s 186ms/step - loss: 3.4976 - val_loss: 3.1951\n",
      "Epoch 5/200\n",
      "686/687 [============================>.] - ETA: 0s - loss: 3.4570\n",
      "Epoch 00005: val_loss improved from 3.19515 to 3.15313, saving model to ./models/Baseline_conv.h5\n",
      "687/687 [==============================] - 128s 186ms/step - loss: 3.4576 - val_loss: 3.1531\n",
      "Epoch 6/200\n",
      "686/687 [============================>.] - ETA: 0s - loss: 3.4257\n",
      "Epoch 00006: val_loss did not improve from 3.15313\n",
      "687/687 [==============================] - 128s 186ms/step - loss: 3.4262 - val_loss: 3.1658\n",
      "Epoch 7/200\n",
      "686/687 [============================>.] - ETA: 0s - loss: 3.4008\n",
      "Epoch 00007: val_loss improved from 3.15313 to 3.11297, saving model to ./models/Baseline_conv.h5\n",
      "687/687 [==============================] - 127s 185ms/step - loss: 3.4014 - val_loss: 3.1130\n",
      "Epoch 8/200\n",
      "686/687 [============================>.] - ETA: 0s - loss: 3.3829\n",
      "Epoch 00008: val_loss improved from 3.11297 to 3.08988, saving model to ./models/Baseline_conv.h5\n",
      "687/687 [==============================] - 128s 186ms/step - loss: 3.3835 - val_loss: 3.0899\n",
      "Epoch 9/200\n",
      "686/687 [============================>.] - ETA: 0s - loss: 3.3676\n",
      "Epoch 00009: val_loss improved from 3.08988 to 3.07034, saving model to ./models/Baseline_conv.h5\n",
      "687/687 [==============================] - 126s 184ms/step - loss: 3.3681 - val_loss: 3.0703\n",
      "Epoch 10/200\n",
      "686/687 [============================>.] - ETA: 0s - loss: 3.3553\n",
      "Epoch 00010: val_loss did not improve from 3.07034\n",
      "687/687 [==============================] - 128s 186ms/step - loss: 3.3559 - val_loss: 3.0859\n",
      "Epoch 11/200\n",
      "686/687 [============================>.] - ETA: 0s - loss: 3.3447\n",
      "Epoch 00011: val_loss improved from 3.07034 to 3.06731, saving model to ./models/Baseline_conv.h5\n",
      "687/687 [==============================] - 127s 185ms/step - loss: 3.3453 - val_loss: 3.0673\n",
      "Epoch 12/200\n",
      "686/687 [============================>.] - ETA: 0s - loss: 3.3360\n",
      "Epoch 00012: val_loss improved from 3.06731 to 3.05749, saving model to ./models/Baseline_conv.h5\n",
      "687/687 [==============================] - 127s 185ms/step - loss: 3.3366 - val_loss: 3.0575\n",
      "Epoch 13/200\n",
      "686/687 [============================>.] - ETA: 0s - loss: 3.3276\n",
      "Epoch 00013: val_loss did not improve from 3.05749\n",
      "687/687 [==============================] - 128s 186ms/step - loss: 3.3282 - val_loss: 3.0640\n",
      "Epoch 14/200\n",
      "686/687 [============================>.] - ETA: 0s - loss: 3.3195\n",
      "Epoch 00014: val_loss did not improve from 3.05749\n",
      "687/687 [==============================] - 127s 184ms/step - loss: 3.3201 - val_loss: 3.0637\n",
      "Epoch 15/200\n",
      "686/687 [============================>.] - ETA: 0s - loss: 3.3125\n",
      "Epoch 00015: val_loss did not improve from 3.05749\n",
      "687/687 [==============================] - 125s 183ms/step - loss: 3.3131 - val_loss: 3.0861\n",
      "Epoch 16/200\n",
      "686/687 [============================>.] - ETA: 0s - loss: 3.3053\n",
      "Epoch 00016: val_loss did not improve from 3.05749\n",
      "687/687 [==============================] - 127s 185ms/step - loss: 3.3059 - val_loss: 3.1404\n",
      "Epoch 17/200\n",
      "686/687 [============================>.] - ETA: 0s - loss: 3.2999\n",
      "Epoch 00017: val_loss did not improve from 3.05749\n",
      "687/687 [==============================] - 128s 186ms/step - loss: 3.3005 - val_loss: 3.1489\n",
      "Epoch 18/200\n",
      "686/687 [============================>.] - ETA: 0s - loss: 3.2951\n",
      "Epoch 00018: val_loss did not improve from 3.05749\n",
      "687/687 [==============================] - 127s 185ms/step - loss: 3.2957 - val_loss: 3.1518\n",
      "Epoch 19/200\n",
      "686/687 [============================>.] - ETA: 0s - loss: 3.2904\n",
      "Epoch 00019: val_loss did not improve from 3.05749\n",
      "687/687 [==============================] - 127s 184ms/step - loss: 3.2910 - val_loss: 3.1467\n",
      "Epoch 20/200\n",
      "686/687 [============================>.] - ETA: 0s - loss: 3.2855\n",
      "Epoch 00020: val_loss did not improve from 3.05749\n",
      "687/687 [==============================] - 127s 185ms/step - loss: 3.2861 - val_loss: 3.1530\n",
      "Epoch 21/200\n",
      "686/687 [============================>.] - ETA: 0s - loss: 3.2816\n",
      "Epoch 00021: val_loss did not improve from 3.05749\n",
      "687/687 [==============================] - 126s 184ms/step - loss: 3.2823 - val_loss: 3.1463\n",
      "Epoch 22/200\n",
      "686/687 [============================>.] - ETA: 0s - loss: 3.2776\n",
      "Epoch 00022: val_loss did not improve from 3.05749\n",
      "687/687 [==============================] - 126s 183ms/step - loss: 3.2782 - val_loss: 3.1553\n",
      "Epoch 23/200\n",
      "686/687 [============================>.] - ETA: 0s - loss: 3.2744\n",
      "Epoch 00023: val_loss did not improve from 3.05749\n",
      "687/687 [==============================] - 127s 185ms/step - loss: 3.2750 - val_loss: 3.1654\n",
      "Epoch 24/200\n",
      "686/687 [============================>.] - ETA: 0s - loss: 3.2701\n",
      "Epoch 00024: val_loss did not improve from 3.05749\n",
      "687/687 [==============================] - 126s 183ms/step - loss: 3.2707 - val_loss: 3.1269\n",
      "Epoch 25/200\n",
      "686/687 [============================>.] - ETA: 0s - loss: 3.2673\n",
      "Epoch 00025: val_loss did not improve from 3.05749\n",
      "687/687 [==============================] - 126s 184ms/step - loss: 3.2679 - val_loss: 3.1206\n",
      "Epoch 26/200\n",
      "686/687 [============================>.] - ETA: 0s - loss: 3.2661\n",
      "Epoch 00026: val_loss did not improve from 3.05749\n",
      "687/687 [==============================] - 127s 185ms/step - loss: 3.2667 - val_loss: 3.1566\n",
      "Epoch 27/200\n",
      "686/687 [============================>.] - ETA: 0s - loss: 3.2629\n",
      "Epoch 00027: val_loss did not improve from 3.05749\n",
      "687/687 [==============================] - 127s 185ms/step - loss: 3.2635 - val_loss: 3.1035\n",
      "Epoch 28/200\n",
      "686/687 [============================>.] - ETA: 0s - loss: 3.2605\n",
      "Epoch 00028: val_loss did not improve from 3.05749\n",
      "687/687 [==============================] - 127s 185ms/step - loss: 3.2611 - val_loss: 3.1262\n",
      "Epoch 29/200\n",
      "686/687 [============================>.] - ETA: 0s - loss: 3.2574\n",
      "Epoch 00029: val_loss did not improve from 3.05749\n",
      "687/687 [==============================] - 126s 184ms/step - loss: 3.2580 - val_loss: 3.1168\n",
      "Epoch 30/200\n",
      "686/687 [============================>.] - ETA: 0s - loss: 3.2561\n",
      "Epoch 00030: val_loss did not improve from 3.05749\n",
      "687/687 [==============================] - 127s 185ms/step - loss: 3.2567 - val_loss: 3.1049\n",
      "Epoch 31/200\n",
      "686/687 [============================>.] - ETA: 0s - loss: 3.2542\n",
      "Epoch 00031: val_loss did not improve from 3.05749\n",
      "687/687 [==============================] - 127s 185ms/step - loss: 3.2548 - val_loss: 3.0988\n",
      "Epoch 32/200\n",
      "686/687 [============================>.] - ETA: 0s - loss: 3.2522\n",
      "Epoch 00032: val_loss did not improve from 3.05749\n",
      "687/687 [==============================] - 127s 185ms/step - loss: 3.2528 - val_loss: 3.1042\n"
     ]
    },
    {
     "data": {
      "text/plain": [
       "<tensorflow.python.keras.callbacks.History at 0x7f4c6072f9e8>"
      ]
     },
     "execution_count": 11,
     "metadata": {},
     "output_type": "execute_result"
    }
   ],
   "source": [
    "model = Model(input_layer, output_layer)\n",
    "opt = tf.optimizers.Adam(learning_rate=lr_schedule, epsilon=EPSILON)\n",
    "model.compile(loss='mae', optimizer=opt)\n",
    "model.fit(train_dataset, epochs = 200,\n",
    "          callbacks = callbacks, validation_data=val_dataset,\n",
    "          verbose=1)"
   ]
  },
  {
   "cell_type": "code",
   "execution_count": 12,
   "metadata": {},
   "outputs": [
    {
     "name": "stderr",
     "output_type": "stream",
     "text": [
      "test: 100%|██████████| 2674/2674 [00:00<00:00, 3171.22it/s]\n"
     ]
    }
   ],
   "source": [
    "test_path = './data/test'\n",
    "test_files = sorted(glob.glob(test_path + '/*.npy'))\n",
    "\n",
    "X_test = []\n",
    "\n",
    "for file in tqdm(test_files, desc = 'test'):\n",
    "    data = np.load(file)\n",
    "    X_test.append(data)\n",
    "\n",
    "X_test = np.array(X_test)"
   ]
  },
  {
   "cell_type": "code",
   "execution_count": 13,
   "metadata": {},
   "outputs": [
    {
     "data": {
      "text/plain": [
       "(2674, 120, 120, 4)"
      ]
     },
     "execution_count": 13,
     "metadata": {},
     "output_type": "execute_result"
    }
   ],
   "source": [
    "X_test.shape"
   ]
  },
  {
   "cell_type": "code",
   "execution_count": 14,
   "metadata": {},
   "outputs": [],
   "source": [
    "pred = model.predict(X_test)"
   ]
  },
  {
   "cell_type": "code",
   "execution_count": 15,
   "metadata": {},
   "outputs": [],
   "source": [
    "submission = pd.read_csv('./data/sample_submission.csv')"
   ]
  },
  {
   "cell_type": "code",
   "execution_count": 16,
   "metadata": {},
   "outputs": [],
   "source": [
    "submission.iloc[:,1:] = pred.reshape(-1, 14400).astype(int)\n",
    "submission.to_csv('./results/Dacon_baseline.csv', index = False)"
   ]
  }
 ],
 "metadata": {
  "kernelspec": {
   "display_name": "Environment (conda_tensorflow2_p36)",
   "language": "python",
   "name": "conda_tensorflow2_p36"
  },
  "language_info": {
   "codemirror_mode": {
    "name": "ipython",
    "version": 3
   },
   "file_extension": ".py",
   "mimetype": "text/x-python",
   "name": "python",
   "nbconvert_exporter": "python",
   "pygments_lexer": "ipython3",
   "version": "3.6.10"
  }
 },
 "nbformat": 4,
 "nbformat_minor": 4
}
